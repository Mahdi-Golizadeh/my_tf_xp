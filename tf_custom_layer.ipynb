{
  "nbformat": 4,
  "nbformat_minor": 0,
  "metadata": {
    "colab": {
      "provenance": [],
      "authorship_tag": "ABX9TyPo78t5Bn6pCcdTGn3H62c7",
      "include_colab_link": true
    },
    "kernelspec": {
      "name": "python3",
      "display_name": "Python 3"
    },
    "language_info": {
      "name": "python"
    }
  },
  "cells": [
    {
      "cell_type": "markdown",
      "metadata": {
        "id": "view-in-github",
        "colab_type": "text"
      },
      "source": [
        "<a href=\"https://colab.research.google.com/github/Mahdi-Golizadeh/my_tf_xp/blob/main/tf_custom_layer.ipynb\" target=\"_parent\"><img src=\"https://colab.research.google.com/assets/colab-badge.svg\" alt=\"Open In Colab\"/></a>"
      ]
    },
    {
      "cell_type": "code",
      "execution_count": 1,
      "metadata": {
        "id": "5V407Elznd3j"
      },
      "outputs": [],
      "source": [
        "import tensorflow as tf"
      ]
    },
    {
      "cell_type": "code",
      "source": [
        "class my_dense_layer(tf.keras.layers.Layer):\n",
        "    def __init__(self, units= 32, activation= None):\n",
        "        super().__init__()\n",
        "        self.units= units\n",
        "        self.activation = tf.keras.activations.get(activation)\n",
        "    def build(self, input_shape):\n",
        "        k_init = tf.random_uniform_initializer()\n",
        "        self.w = tf.Variable(\n",
        "            name= \"kernel\",\n",
        "            initial_value= k_init(\n",
        "                shape= (input_shape[-1], self.units),\n",
        "                dtype= \"float32\"\n",
        "            ),\n",
        "            trainable= True\n",
        "        )\n",
        "        self.b = tf.Variable(\n",
        "            name= \"bias\",\n",
        "            initial_value= tf.zeros_initializer()(\n",
        "                shape= (self.units,),\n",
        "            ),\n",
        "            trainable= True\n",
        "        )\n",
        "        super().build(input_shape)\n",
        "\n",
        "    def call(self, x):\n",
        "        return self.activation(tf.matmul(x, self.w) + self.b)\n"
      ],
      "metadata": {
        "id": "qVcUAv5mnk8r"
      },
      "execution_count": 2,
      "outputs": []
    },
    {
      "cell_type": "code",
      "source": [
        "f_mnist = tf.keras.datasets.fashion_mnist\n",
        "\n",
        "(x_train, y_train),(x_test, y_test) = f_mnist.load_data()\n",
        "x_train, x_test = x_train / 255.0, x_test / 255.0\n",
        "\n",
        "model = tf.keras.models.Sequential([\n",
        "    tf.keras.layers.Flatten(input_shape=(28, 28)),\n",
        "    my_dense_layer(128, activation= tf.keras.activations.selu),\n",
        "    tf.keras.layers.Dropout(0.2),\n",
        "    tf.keras.layers.Dense(10, activation='softmax')\n",
        "])\n",
        "\n",
        "model.compile(optimizer='adam',\n",
        "              loss='sparse_categorical_crossentropy',\n",
        "              metrics=['accuracy'])\n",
        "\n",
        "model.fit(x_train, y_train, epochs=5)\n",
        "model.evaluate(x_test, y_test)"
      ],
      "metadata": {
        "colab": {
          "base_uri": "https://localhost:8080/"
        },
        "id": "gDBUbeQrqEST",
        "outputId": "4c93412c-f735-48d8-84e5-b61ee58c6fd3"
      },
      "execution_count": 3,
      "outputs": [
        {
          "output_type": "stream",
          "name": "stdout",
          "text": [
            "Downloading data from https://storage.googleapis.com/tensorflow/tf-keras-datasets/train-labels-idx1-ubyte.gz\n",
            "29515/29515 [==============================] - 0s 0us/step\n",
            "Downloading data from https://storage.googleapis.com/tensorflow/tf-keras-datasets/train-images-idx3-ubyte.gz\n",
            "26421880/26421880 [==============================] - 2s 0us/step\n",
            "Downloading data from https://storage.googleapis.com/tensorflow/tf-keras-datasets/t10k-labels-idx1-ubyte.gz\n",
            "5148/5148 [==============================] - 0s 0us/step\n",
            "Downloading data from https://storage.googleapis.com/tensorflow/tf-keras-datasets/t10k-images-idx3-ubyte.gz\n",
            "4422102/4422102 [==============================] - 0s 0us/step\n",
            "Epoch 1/5\n",
            "1875/1875 [==============================] - 8s 4ms/step - loss: 0.5454 - accuracy: 0.8071\n",
            "Epoch 2/5\n",
            "1875/1875 [==============================] - 9s 5ms/step - loss: 0.4392 - accuracy: 0.8420\n",
            "Epoch 3/5\n",
            "1875/1875 [==============================] - 9s 5ms/step - loss: 0.4079 - accuracy: 0.8522\n",
            "Epoch 4/5\n",
            "1875/1875 [==============================] - 7s 4ms/step - loss: 0.3847 - accuracy: 0.8604\n",
            "Epoch 5/5\n",
            "1875/1875 [==============================] - 9s 5ms/step - loss: 0.3692 - accuracy: 0.8647\n",
            "313/313 [==============================] - 1s 3ms/step - loss: 0.3884 - accuracy: 0.8620\n"
          ]
        },
        {
          "output_type": "execute_result",
          "data": {
            "text/plain": [
              "[0.38843944668769836, 0.8619999885559082]"
            ]
          },
          "metadata": {},
          "execution_count": 3
        }
      ]
    },
    {
      "cell_type": "code",
      "source": [],
      "metadata": {
        "id": "UWFym4J8qe0g"
      },
      "execution_count": null,
      "outputs": []
    }
  ]
}